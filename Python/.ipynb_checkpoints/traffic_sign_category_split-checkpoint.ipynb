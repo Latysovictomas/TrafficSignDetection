{
 "cells": [
  {
   "cell_type": "code",
   "execution_count": null,
   "metadata": {},
   "outputs": [],
   "source": [
    "import pandas as pd"
   ]
  },
  {
   "cell_type": "code",
   "execution_count": 8,
   "metadata": {},
   "outputs": [
    {
     "data": {
      "text/plain": [
       "['speed limit 80 (prohibitory)',\n",
       " 'road narrows (danger)',\n",
       " 'restriction ends 80 (other)',\n",
       " 'go right (mandatory)',\n",
       " 'stop (other)',\n",
       " 'go left (mandatory)',\n",
       " 'keep right (mandatory)',\n",
       " 'give way (other)',\n",
       " 'speed limit 100 (prohibitory)',\n",
       " 'no overtaking trucks (prohibitory)',\n",
       " 'keep left (mandatory)',\n",
       " 'no overtaking (prohibitory)',\n",
       " 'speed limit 30 (prohibitory)',\n",
       " 'school crossing (danger)',\n",
       " 'priority road (other)',\n",
       " 'no trucks (prohibitory)',\n",
       " 'snow (danger)',\n",
       " 'priority at next intersection (danger)',\n",
       " 'no entry (other)',\n",
       " 'speed limit 50 (prohibitory)',\n",
       " 'slippery road (danger)',\n",
       " 'no traffic both ways (prohibitory)',\n",
       " 'speed limit 120 (prohibitory)',\n",
       " 'speed limit 70 (prohibitory)',\n",
       " 'uneven road (danger)']"
      ]
     },
     "execution_count": 8,
     "metadata": {},
     "output_type": "execute_result"
    }
   ],
   "source": [
    "\n",
    "# def select_classes(df_copy, inv_d, selected_classes_path=\"dataset/selected_classes.csv\", ts_name_col=\"traffic_sign\"):\n",
    "#     # selected classes\n",
    "#     selected_classes = pd.read_csv(selected_classes_path, header=None, names=[ts_name_col])[ts_name_col].tolist()\n",
    "#     selected_classes_ids = list((pd.Series(selected_classes)).map(inv_d))\n",
    "#     print(selected_classes_ids)\n",
    "#     print(\"Before:\", df_copy[\"class\"].nunique())\n",
    "#     print(\"Before: \", df_copy[\"filename\"].nunique())\n",
    "#     # df_copy[~df_copy[\"class\"].astype(int).isin(selected_classes_ids)]\n",
    "#     filenames_to_drop = df_copy[~df_copy[\"class\"].astype(int).isin(selected_classes_ids)][\"filename\"].tolist()\n",
    "#     df_copy = df_copy[~df_copy[\"filename\"].isin(filenames_to_drop)]\n",
    "#     print(\"After:\", df_copy[\"class\"].nunique())\n",
    "#     print(\"After\", df_copy[\"filename\"].nunique())\n",
    "#     return df_copy\n",
    "\n",
    "\n",
    "\n",
    "selected_classes = pd.read_csv(\"dataset/selected_classes_model2.csv\", header=None,\\\n",
    "                               names=[\"traffic_sign\"])[\"traffic_sign\"].tolist()\n",
    "\n",
    "train_labels = pd.read_csv(\"dataset/model2b/train_labels.csv\")\n",
    "test_labels = pd.read_csv(\"dataset/model2b/test_labels.csv\")\n",
    "\n",
    "\n",
    "\n",
    "# train_labels\n",
    "t_signs_df = \n",
    "selected_classes.split()"
   ]
  }
 ],
 "metadata": {
  "kernelspec": {
   "display_name": "Python 3",
   "language": "python",
   "name": "python3"
  },
  "language_info": {
   "codemirror_mode": {
    "name": "ipython",
    "version": 3
   },
   "file_extension": ".py",
   "mimetype": "text/x-python",
   "name": "python",
   "nbconvert_exporter": "python",
   "pygments_lexer": "ipython3",
   "version": "3.6.9"
  }
 },
 "nbformat": 4,
 "nbformat_minor": 2
}
